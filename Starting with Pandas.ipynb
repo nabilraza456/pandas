{
 "cells": [
  {
   "cell_type": "markdown",
   "id": "7a48a370",
   "metadata": {},
   "source": [
    "# Reading File in Pandas"
   ]
  },
  {
   "cell_type": "code",
   "execution_count": null,
   "id": "c491bb28",
   "metadata": {},
   "outputs": [],
   "source": [
    "import pandas as pd"
   ]
  },
  {
   "cell_type": "code",
   "execution_count": null,
   "id": "91f89d23",
   "metadata": {},
   "outputs": [],
   "source": [
    "#reading csv file\n",
    "df_csv = pd.read_csv('pokemon_data.csv')\n",
    "df_csv\n",
    "\n",
    "# reading excel file\n",
    "# df_excel = pd.read_excel('pokemon_data.xlsx')\n",
    "# df_excel\n",
    "\n",
    "# reading txt file - tab delimetered file\n",
    "# df_txt = pd.read_csv('pokemon_data.txt', delimiter='\\t')\n",
    "# df_txt"
   ]
  },
  {
   "cell_type": "code",
   "execution_count": null,
   "id": "45158345",
   "metadata": {},
   "outputs": [],
   "source": [
    "# Reading Headers of a DF\n",
    "\n",
    "df_columns = df_csv.columns\n",
    "df_columns \n",
    "# print(df.columns)"
   ]
  },
  {
   "cell_type": "code",
   "execution_count": null,
   "id": "ba9abf12",
   "metadata": {},
   "outputs": [],
   "source": [
    "# assignment to DF => df = df_csv\n",
    "# print(df)\n",
    "\n",
    "# Reading each Columns\n",
    "\n",
    "print(df['Name']) # display one column\n",
    "print(df['Name'][0:10]) # display only 5 rows\n",
    "print(df[['Name', 'Type 1', 'HP']]) # display multiple columns"
   ]
  },
  {
   "cell_type": "code",
   "execution_count": null,
   "id": "2f39c310",
   "metadata": {},
   "outputs": [],
   "source": [
    "# Read each row --- iloc is used - integer location\n",
    "\n",
    "print(df.iloc[1]) # display only the second row\n",
    "print(df.iloc[0:10]) # display only the 10 rows\n",
    "\n",
    "# iterate through each row\n",
    "for index,row in df.iterrows():\n",
    "    print(index, row)\n",
    "\n",
    "# iterate through each row and display Name column only\n",
    "for index,row in df.iterrows():\n",
    "    print(index, row['Name'])    "
   ]
  },
  {
   "cell_type": "code",
   "execution_count": null,
   "id": "b42bfbf3",
   "metadata": {},
   "outputs": [],
   "source": [
    "# Read a specific value from the DF\n",
    "\n",
    "print(df.iloc[2]) # display 3rd row  (started from 0) \n",
    "print(df.iloc[2,2]) # display 3rd column value (started from 0) "
   ]
  },
  {
   "cell_type": "code",
   "execution_count": null,
   "id": "0b6716c3",
   "metadata": {},
   "outputs": [],
   "source": [
    "# ILOC vs LOC - https://towardsdatascience.com/how-to-use-loc-and-iloc-for-selecting-data-in-pandas-bd09cb4c3d79\n",
    "'''\n",
    "loc is label-based, which means that you have to specify rows and columns based on their row and column labels.\n",
    "iloc is integer position-based, so you have to specify rows and columns by their integer position values(0-based integer pos).\n",
    "\n",
    "loc[row_label, column_label]\n",
    "iloc[row_position, column_position]\n",
    "\n",
    "# To get Friday's temperature\n",
    ">>> df.loc['Fri', 'Temperature']\n",
    "10.51\n",
    "\n",
    "# The equivalent `iloc` statement\n",
    ">>> df.iloc[4, 1]\n",
    "10.51\n",
    "\n",
    "# To get all rows\n",
    ">>> df.loc[:, 'Temperature']\n",
    "Day\n",
    "Mon    12.79\n",
    "Tue    19.67\n",
    "Wed    17.51\n",
    "Thu    14.44\n",
    "Fri    10.51\n",
    "Sat    11.07\n",
    "Sun    17.50\n",
    "Name: Temperature, dtype: float64\n",
    "# The equivalent `iloc` statement\n",
    ">>> df.iloc[:, 1]\n",
    "\n",
    "2. Selecting via a single value\n",
    "\n",
    "\n",
    "# To get all columns\n",
    ">>> df.loc['Fri', :]\n",
    "Weather        Shower\n",
    "Temperature     10.51\n",
    "Wind               26\n",
    "Humidity           79\n",
    "Name: Fri, dtype: object\n",
    "\n",
    "# The equivalent `iloc` statement\n",
    ">>> df.iloc[4, :]\n",
    "\n",
    "\n",
    "3. Selecting via a list of values\n",
    "\n",
    "# Multiple rows\n",
    "\n",
    ">>> df.loc[['Thu', 'Fri'], 'Temperature']\n",
    "\n",
    ">>> df.iloc[[3, 4], 1]\n",
    "\n",
    "\n",
    "4. Selecting a range of data via slice\n",
    "# Slicing column labels\n",
    "rows=['Thu', 'Fri']\n",
    "df.loc[rows, 'Temperature':'Humidity' ]\n",
    "\n",
    "df.iloc[[1, 2], 0 : 3]\n",
    "\n",
    "\n",
    "5. Selecting via conditions and callable\n",
    "\n",
    "# One condition\n",
    "df.loc[df.Humidity > 50, :]\n",
    "\n",
    "\n",
    "## multiple conditions\n",
    "df.loc[\n",
    "    (df.Humidity > 50) & (df.Weather == 'Shower'), \n",
    "    ['Temperature','Wind'],\n",
    "]\n",
    "\n",
    "For iloc, we will get a ValueError if pass the condition straight into the statement:\n",
    "# Getting ValueError\n",
    "df.iloc[df.Humidity > 50, :]\n",
    "''' \n"
   ]
  },
  {
   "cell_type": "code",
   "execution_count": null,
   "id": "22eec2df",
   "metadata": {},
   "outputs": [],
   "source": [
    "# df.loc[4, 'Name']\n",
    "\n",
    "df.loc[((df['HP']>60) & (df['Defense']>60) & (df['Sp. Atk']>100)) ,  'Name']"
   ]
  },
  {
   "cell_type": "code",
   "execution_count": null,
   "id": "72e17ab2",
   "metadata": {},
   "outputs": [],
   "source": [
    "df.loc[lambda df: df['HP']>100, 'Name']"
   ]
  },
  {
   "cell_type": "code",
   "execution_count": null,
   "id": "4fa1fd64",
   "metadata": {},
   "outputs": [],
   "source": [
    "df.loc[df['Name'] == 'Bulbasaur']"
   ]
  },
  {
   "cell_type": "markdown",
   "id": "bceea4c0",
   "metadata": {},
   "source": [
    "## Sorting/Describing Data\n"
   ]
  },
  {
   "cell_type": "code",
   "execution_count": null,
   "id": "9b294baf",
   "metadata": {},
   "outputs": [],
   "source": [
    "# describe the data - count, mean, std, min max etc\n",
    "df.describe()"
   ]
  },
  {
   "cell_type": "code",
   "execution_count": null,
   "id": "d3cde9a1",
   "metadata": {},
   "outputs": [],
   "source": [
    "# sort values\n",
    "df.sort_values(['Name', 'Type 1'], ascending=True)\n",
    "df.sort_values(['Name', 'Type 1'], ascending=[1,0]) # 0 = high to low ---- 1 means low to high"
   ]
  },
  {
   "cell_type": "code",
   "execution_count": null,
   "id": "0e241ac7",
   "metadata": {},
   "outputs": [],
   "source": [
    "df.columns"
   ]
  },
  {
   "cell_type": "code",
   "execution_count": null,
   "id": "f21ffd8e",
   "metadata": {},
   "outputs": [],
   "source": [
    "# adding the new columns\n",
    "# df['Total'] = df['HP'] + df['Attack'] + df['Defense'] + df['Sp. Atk'] + df['Sp. Def'] + df['Speed']\n",
    "# df\n",
    "\n",
    "df['Total'] = df.iloc[:, 4:10].sum(axis=1) # 0 = Vertical, 1 = Horizontal \n",
    "df"
   ]
  },
  {
   "cell_type": "code",
   "execution_count": null,
   "id": "3d4af9cf",
   "metadata": {},
   "outputs": [],
   "source": [
    "\n",
    "# droping a column\n",
    "\n",
    "df = df.drop(columns=['Total'])\n",
    "df"
   ]
  },
  {
   "cell_type": "markdown",
   "id": "4a418680",
   "metadata": {},
   "source": [
    "## Making Change to the data"
   ]
  },
  {
   "cell_type": "code",
   "execution_count": null,
   "id": "9457cd52",
   "metadata": {},
   "outputs": [],
   "source": [
    "# Select selective columns\n",
    "# Re-order columns\n",
    "\n",
    "cols = list(df.columns)\n",
    "df = df[cols[0:4] + [cols[-1]] + cols[4:12]]\n",
    "df"
   ]
  },
  {
   "cell_type": "code",
   "execution_count": null,
   "id": "37039044",
   "metadata": {},
   "outputs": [],
   "source": [
    "\n",
    "\n",
    "df.columns"
   ]
  },
  {
   "cell_type": "markdown",
   "id": "debfdb8d",
   "metadata": {},
   "source": [
    "## Saving data to file"
   ]
  },
  {
   "cell_type": "code",
   "execution_count": null,
   "id": "97d3b297",
   "metadata": {},
   "outputs": [],
   "source": [
    "df.to_csv('Modified.csv', index=False)\n",
    "df.to_excel('Modified.xlsx', index=False)\n",
    "df.to_csv('Modified.txt', index=False, sep='\\t')"
   ]
  },
  {
   "cell_type": "markdown",
   "id": "34b1a587",
   "metadata": {},
   "source": [
    "## Filtering Data"
   ]
  },
  {
   "cell_type": "code",
   "execution_count": null,
   "id": "778b61e0",
   "metadata": {},
   "outputs": [],
   "source": [
    "df.loc[df['Type 1']== 'Grass']"
   ]
  },
  {
   "cell_type": "code",
   "execution_count": null,
   "id": "0c766eb2",
   "metadata": {},
   "outputs": [],
   "source": [
    "import re\n",
    "\n",
    "# df.loc[df['Type 1'].str.contains('fire|grass', flags=re.I, regex=True)]\n",
    "\n",
    "df.loc[df['Name'].str.contains('^pi[a-z]*', flags=re.I, regex=True)]"
   ]
  },
  {
   "cell_type": "markdown",
   "id": "e845aa50",
   "metadata": {},
   "source": [
    "## Conditional Changes"
   ]
  },
  {
   "cell_type": "code",
   "execution_count": null,
   "id": "3aefc68a",
   "metadata": {},
   "outputs": [],
   "source": [
    "df.loc[df['Type 1'] == 'Fire', 'Type 2'] = 'Flamers'\n",
    "df"
   ]
  },
  {
   "cell_type": "code",
   "execution_count": null,
   "id": "15762177",
   "metadata": {},
   "outputs": [],
   "source": [
    "df.loc[df['Total'] > 500, ['Generation', 'Legendary']] = ['Test 1', 'Test 2']\n",
    "df"
   ]
  },
  {
   "cell_type": "markdown",
   "id": "850de749",
   "metadata": {},
   "source": [
    "## Aggregate Statistics  (GroupBy)"
   ]
  },
  {
   "cell_type": "code",
   "execution_count": null,
   "id": "ecafab8c",
   "metadata": {},
   "outputs": [],
   "source": [
    "# Loading CSV \n",
    "df = pd.read_csv('Modified.csv')\n"
   ]
  },
  {
   "cell_type": "code",
   "execution_count": null,
   "id": "0f3f3060",
   "metadata": {},
   "outputs": [],
   "source": [
    "df.groupby(['Type 1']).mean().sort_values('Defense', ascending=False)"
   ]
  },
  {
   "cell_type": "code",
   "execution_count": null,
   "id": "5bd5385c",
   "metadata": {},
   "outputs": [],
   "source": [
    "df.groupby(['Type 1']).sum()"
   ]
  },
  {
   "cell_type": "code",
   "execution_count": null,
   "id": "b37a84b7",
   "metadata": {},
   "outputs": [],
   "source": [
    "df.groupby(['Type 1']).count()"
   ]
  },
  {
   "cell_type": "code",
   "execution_count": null,
   "id": "b75165a6",
   "metadata": {},
   "outputs": [],
   "source": [
    "for df in pd.read_csv('Modified.csv', chunksize=5):\n",
    "    print('CHUNK DF')\n",
    "    print(df)"
   ]
  },
  {
   "cell_type": "code",
   "execution_count": null,
   "id": "d5b5acf4",
   "metadata": {},
   "outputs": [],
   "source": [
    "df.info()"
   ]
  },
  {
   "cell_type": "code",
   "execution_count": null,
   "id": "c1f6ff58",
   "metadata": {},
   "outputs": [],
   "source": []
  },
  {
   "cell_type": "code",
   "execution_count": null,
   "id": "eb2c0241",
   "metadata": {},
   "outputs": [],
   "source": []
  },
  {
   "cell_type": "code",
   "execution_count": null,
   "id": "33262563",
   "metadata": {},
   "outputs": [],
   "source": []
  },
  {
   "cell_type": "code",
   "execution_count": null,
   "id": "84514e0b",
   "metadata": {},
   "outputs": [],
   "source": []
  },
  {
   "cell_type": "code",
   "execution_count": null,
   "id": "caaafdbf",
   "metadata": {},
   "outputs": [],
   "source": []
  },
  {
   "cell_type": "code",
   "execution_count": null,
   "id": "d702e83a",
   "metadata": {},
   "outputs": [],
   "source": []
  },
  {
   "cell_type": "code",
   "execution_count": null,
   "id": "4a80231f",
   "metadata": {},
   "outputs": [],
   "source": []
  }
 ],
 "metadata": {
  "kernelspec": {
   "display_name": "Python 3",
   "language": "python",
   "name": "python3"
  },
  "language_info": {
   "codemirror_mode": {
    "name": "ipython",
    "version": 3
   },
   "file_extension": ".py",
   "mimetype": "text/x-python",
   "name": "python",
   "nbconvert_exporter": "python",
   "pygments_lexer": "ipython3",
   "version": "3.8.8"
  }
 },
 "nbformat": 4,
 "nbformat_minor": 5
}
